{
  "cells": [
    {
      "cell_type": "markdown",
      "metadata": {
        "id": "rDAO7sLebyU-"
      },
      "source": [
        "1\\. **PCA on 3D dataset**\n",
        "\n",
        "* Generate a dataset simulating 3 features, each with N entries (N being ${\\cal O}(1000)$). Each feature is made by random numbers generated according the normal distribution $N(\\mu,\\sigma)$ with mean $\\mu_i$ and standard deviation $\\sigma_i$, with $i=1, 2, 3$. Generate the 3 variables $x_{i}$ such that:\n",
        "    * $x_1$ is distributed as $N(0,1)$\n",
        "    * $x_2$ is distributed as $x_1+N(0,3)$\n",
        "    * $x_3$ is given by $2x_1+x_2$\n",
        "* Find the eigenvectors and eigenvalues using the eigendecomposition of the covariance matrix\n",
        "* Find the eigenvectors and eigenvalues using the SVD. Check that the two procedures yield to same result\n",
        "* What percent of the total dataset's variability is explained by the principal components? Given how the dataset was constructed, do these make sense? Reduce the dimensionality of the system so that at least 99% of the total variability is retained\n",
        "* Redefine the data according to the new basis from the PCA\n",
        "* Plot the data, in both the original and the new basis. The figure should have 2 rows (the original and the new basis) and 3 columns (the $[x_0, x_1]$, $[x_0, x_2]$ and $[x_1, x_2]$ projections) of scatter plots."
      ]
    },
    {
      "cell_type": "code",
      "execution_count": 1,
      "metadata": {
        "colab": {
          "base_uri": "https://localhost:8080/"
        },
        "id": "uryBKzTzbyVS",
        "outputId": "1fbfb525-e3b6-4659-efe6-b4ddaae80258"
      },
      "outputs": [
        {
          "output_type": "execute_result",
          "data": {
            "text/plain": [
              "array([[-0.49460003, -0.93279049, -1.92199056],\n",
              "       [ 0.29168307,  1.28916499,  1.87253112],\n",
              "       [ 0.8858327 ,  1.14318091,  2.9148463 ],\n",
              "       ...,\n",
              "       [-1.53800208, -2.29253482, -5.36853898],\n",
              "       [-0.46768024,  0.57596083, -0.35939964],\n",
              "       [-0.41669896,  0.7597713 , -0.07362661]])"
            ]
          },
          "metadata": {},
          "execution_count": 1
        }
      ],
      "source": [
        "#Create Data\n",
        "import matplotlib.pyplot as plt\n",
        "\n",
        "from scipy import linalg as la\n",
        "from matplotlib import pyplot as plt\n",
        "import numpy as np\n",
        "n = 1000\n",
        "\n",
        "x1 = np.random.normal(0, 1, n).T\n",
        "x2 = (np.random.normal(0, 3, n) +x1).T\n",
        "x3 = (2*x1+x2).T\n",
        "X = np.array([x1, x2, x3]).T\n",
        "X"
      ]
    },
    {
      "cell_type": "code",
      "source": [],
      "metadata": {
        "id": "MMfDl-5-cXYt"
      },
      "execution_count": null,
      "outputs": []
    },
    {
      "cell_type": "code",
      "execution_count": 2,
      "metadata": {
        "colab": {
          "base_uri": "https://localhost:8080/"
        },
        "id": "O_NPndpVN0YE",
        "outputId": "0910947d-8afd-477a-b875-ad2d13092e6c"
      },
      "outputs": [
        {
          "output_type": "stream",
          "name": "stdout",
          "text": [
            "Covariance matrix:\n",
            " [[ 0.9260137   0.88764651  2.73967392]\n",
            " [ 0.88764651  9.77808516 11.55337818]\n",
            " [ 2.73967392 11.55337818 17.03272602]] \n",
            "\n",
            "Eigenvalues:\n",
            " [2.58154839e+01 2.76785141e-16 1.92134098e+00] \n",
            "\n",
            "Eigenvectors:\n",
            " [[-0.10932212 -0.81649658  0.56690564]\n",
            " [-0.58499265 -0.40824829 -0.70079735]\n",
            " [-0.8036369   0.40824829  0.43301393]] \n",
            "\n",
            "VV^T:\n",
            " [[ 1.00000000e+00 -9.68989081e-18 -3.68667450e-16]\n",
            " [-9.68989081e-18  1.00000000e+00 -2.23235123e-16]\n",
            " [-3.68667450e-16 -2.23235123e-16  1.00000000e+00]] \n",
            "\n"
          ]
        }
      ],
      "source": [
        "###eigenvectors and eigenvalues\n",
        "#using the eigendecomposition of the covariance matrix\n",
        "\n",
        "#mean\n",
        "M = np.mean(X.T, axis=1)\n",
        "# center columns by subtracting column means\n",
        "C = X - M\n",
        "#print(C)\n",
        "# calculate covariance matrix of centered matrix\n",
        "cov = np.cov(C.T)\n",
        "print(\"Covariance matrix:\\n\", cov, '\\n')\n",
        "\n",
        "# now find the eigenvectors of the covariance matrix\n",
        "l, V = la.eig(cov)\n",
        "# take only the real component, if possible\n",
        "l = np.real_if_close(l)\n",
        "\n",
        "print(\"Eigenvalues:\\n\", l, '\\n')\n",
        "print(\"Eigenvectors:\\n\", V, '\\n')\n",
        "\n",
        "# Check that V is actually an orthogonal matrix (and thus its transpose is also its inverse)\n",
        "print(\"VV^T:\\n\", V.dot(V.T), '\\n')"
      ]
    },
    {
      "cell_type": "code",
      "execution_count": 3,
      "metadata": {
        "colab": {
          "base_uri": "https://localhost:8080/"
        },
        "id": "h2YF99y4N0YE",
        "outputId": "559488b5-aae2-4622-a493-50891f3d480a"
      },
      "outputs": [
        {
          "output_type": "stream",
          "name": "stdout",
          "text": [
            "Covariance matrix:\n",
            " [[ 0.10950129  0.58477114  0.80377371]\n",
            " [-0.56687106  0.7009822  -0.43275992]\n",
            " [ 0.81649658  0.40824829 -0.40824829]] \n",
            "\n",
            "Eigenvalues:\n",
            " [1.60725167e+02 4.38263420e+01 5.97824588e-15] \n",
            "\n",
            "Eigenvectors:\n",
            " [[-1.33424891e-02  1.04563917e-02  5.73505623e-01 ... -1.35884078e-02\n",
            "  -7.21485250e-03 -1.37443347e-02]\n",
            " [ 1.42535079e-02 -1.64333604e-03  2.73977038e-01 ...  2.76391664e-02\n",
            "  -6.61090465e-03 -1.22197436e-02]\n",
            " [ 1.93396959e-02 -2.19555655e-02 -2.26681013e-02 ... -6.77650310e-02\n",
            "  -1.49761386e-02  3.57442875e-04]\n",
            " ...\n",
            " [-3.62364651e-02  3.62364557e-02 -4.20434965e-02 ...  9.94473123e-01\n",
            "  -1.33064122e-03 -5.80790227e-04]\n",
            " [-2.04218156e-05  1.88102956e-02 -3.47292400e-03 ... -9.35256489e-04\n",
            "   9.99590403e-01 -3.41308125e-04]\n",
            " [ 2.11220268e-03  1.82689988e-02  1.11376692e-02 ...  1.53163464e-04\n",
            "  -1.78779332e-04  9.99663995e-01]] \n",
            "\n"
          ]
        }
      ],
      "source": [
        "U, s, VT = la.svd(X)\n",
        "# create m x n Sigma matrix\n",
        "print(\"Covariance matrix:\\n\", VT, '\\n')\n",
        "print(\"Eigenvalues:\\n\", s, '\\n')\n",
        "print(\"Eigenvectors:\\n\", U, '\\n')"
      ]
    },
    {
      "cell_type": "code",
      "source": [],
      "metadata": {
        "id": "INB5O0vocpMi"
      },
      "execution_count": null,
      "outputs": []
    },
    {
      "cell_type": "code",
      "execution_count": 4,
      "metadata": {
        "colab": {
          "base_uri": "https://localhost:8080/",
          "height": 248
        },
        "id": "nui2chHoN0YF",
        "outputId": "1dd317fb-fe76-46a4-966a-a1985776cfa2"
      },
      "outputs": [
        {
          "output_type": "display_data",
          "data": {
            "text/plain": [
              "<Figure size 432x288 with 1 Axes>"
            ],
            "image/png": "[encoded data removed]"
          },
          "metadata": {
            "needs_background": "light"
          }
        }
      ],
      "source": [
        "import matplotlib.pyplot as plt\n",
        "\n",
        "from mpl_toolkits.mplot3d import Axes3D\n",
        "\n",
        "xs = x1\n",
        "\n",
        "ys = x2\n",
        "\n",
        "zs = x3\n",
        "\n",
        "fig = plt.figure()\n",
        "\n",
        "ax = fig.add_subplot(111, projection='3d')\n",
        "\n",
        "ax.scatter(xs,ys,zs)\n",
        "\n",
        "plt.show()"
      ]
    },
    {
      "cell_type": "markdown",
      "metadata": {
        "id": "5ozxZ2l3byVV"
      },
      "source": [
        "2\\. **PCA on a nD dataset**\n",
        "\n",
        "* Start from the dataset you have genereted in the previous exercise and add uncorrelated random noise. Such noise should be represented by other 10 uncorrelated variables normally distributed, with a standard deviation much smaller (e.g. a factor 20) than those used to generate the $x_1$ and $x_2$. Repeat the PCA procedure and compare the results with what you have obtained before."
      ]
    },
    {
      "cell_type": "code",
      "execution_count": null,
      "metadata": {
        "id": "Yx7prKNTbyVX"
      },
      "outputs": [],
      "source": []
    },
    {
      "cell_type": "code",
      "execution_count": 7,
      "metadata": {
        "colab": {
          "base_uri": "https://localhost:8080/"
        },
        "id": "EJCRChq9N0YG",
        "outputId": "004c577c-47d0-449b-dfd2-edc9254044ac"
      },
      "outputs": [
        {
          "output_type": "stream",
          "name": "stdout",
          "text": [
            "\n",
            "Percent of the total variability dataset of component 0 and 1 is  99.73686606298767 %, and component 0 is  97.31213555888782 %\n"
          ]
        }
      ],
      "source": [
        "# Add 10 noisy variables\n",
        "noises = list(range(10))\n",
        "for i in range(10):\n",
        "    noises[i] = np.random.normal(0, 1/20 , 1000)\n",
        "\n",
        "x = np.vstack([xs, noises])\n",
        "\n",
        "#PCA\n",
        "cov = np.cov(x)\n",
        "l, V = la.eig(cov)\n",
        "l = np.real_if_close(l)\n",
        "\n",
        "# Reducing dimensionality of the system\n",
        "c01 = (np.sum(l[:-1])*100/np.sum(l))\n",
        "c0 = (np.sum(l[0])*100/np.sum(l))\n",
        "print(\"\\nPercent of the total variability dataset of component 0 and 1 is \", c01, \"%,\", \"and component 0 is \", c0, \"%\")"
      ]
    },
    {
      "cell_type": "markdown",
      "metadata": {
        "id": "omScdco_byVY"
      },
      "source": [
        "3\\. **Optional**: **PCA on the MAGIC dataset**\n",
        "\n",
        "Perform a PCA on the magic04.data dataset."
      ]
    },
    {
      "cell_type": "code",
      "execution_count": null,
      "metadata": {
        "id": "xQw6NzIcbyVZ"
      },
      "outputs": [],
      "source": [
        "# get the dataset and its description on the proper data directory\n",
        "#!wget https://archive.ics.uci.edu/ml/machine-learning-databases/magic/magic04.data -P data/\n",
        "#!wget https://archive.ics.uci.edu/ml/machine-learning-databases/magic/magic04.names -P data/ "
      ]
    },
    {
      "cell_type": "code",
      "execution_count": null,
      "metadata": {
        "id": "j9rYWQdKbyVd"
      },
      "outputs": [],
      "source": []
    }
  ],
  "metadata": {
    "kernelspec": {
      "display_name": "Python 3",
      "language": "python",
      "name": "python3"
    },
    "language_info": {
      "codemirror_mode": {
        "name": "ipython",
        "version": 3
      },
      "file_extension": ".py",
      "mimetype": "text/x-python",
      "name": "python",
      "nbconvert_exporter": "python",
      "pygments_lexer": "ipython3",
      "version": "3.8.5"
    },
    "colab": {
      "provenance": []
    }
  },
  "nbformat": 4,
  "nbformat_minor": 0
}