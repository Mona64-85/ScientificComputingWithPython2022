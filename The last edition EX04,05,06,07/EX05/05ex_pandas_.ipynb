{
  "cells": [
    {
      "cell_type": "markdown",
      "metadata": {
        "id": "5sgdmXXlppCA"
      },
      "source": [
        "This exercise consists in analyzing a dataset containg timing information from a series of Time-to-Digital-Converters (TDC) implemented in a pair of FPGAs. Each measurement (i.e. each row of the input file) consists of a flag that specifies the type of message ('HEAD', which in this case is always 1), two addresses of the TDC providing the signal ('FPGA' and 'TDC_CHANNEL'), and the timing information ('ORBIT_CNT', 'BX_COUNTER', and 'TDC_MEAS'). Each TDC count corresponds to 25/30 ns, whereas a unit of BX_COUNTER corresponds to 25 ns, and the ORBIT_CNT is increased every 'x' BX_COUNTER. This allows to store the time in a similar way to hours, minutes and seconds."
      ]
    },
    {
      "cell_type": "code",
      "execution_count": null,
      "metadata": {
        "id": "j5McgxamppCF"
      },
      "outputs": [],
      "source": [
        "# If haven't downloaded it yet, please get the data file with wget\n",
        "#!wget https://www.dropbox.com/s/xvjzaxzz3ysphme/data_000637.txt -P ./data/"
      ]
    },
    {
      "cell_type": "markdown",
      "metadata": {
        "id": "dfbxKRSEppCK"
      },
      "source": [
        "1\\. Create a Pandas DataFrame reading N rows of the `data/data_000637.txt` dataset. Choose N to be smaller than or equal to the maximum number of rows and larger that 10k (check the documentation)."
      ]
    },
    {
      "cell_type": "code",
      "execution_count": 3,
      "metadata": {
        "scrolled": true,
        "id": "aVLn_BqyppCL",
        "colab": {
          "base_uri": "https://localhost:8080/"
        },
        "outputId": "3a889f91-caf2-4017-89b4-9fa0e77f407d"
      },
      "outputs": [
        {
          "output_type": "stream",
          "name": "stdout",
          "text": [
            "       HEAD  FPGA  TDC_CHANNEL   ORBIT_CNT  BX_COUNTER  TDC_MEAS\n",
            "0         1     0          123  3869200167        2374        26\n",
            "1         1     0          124  3869200167        2374        27\n",
            "2         1     0           63  3869200167        2553        28\n",
            "3         1     0           64  3869200167        2558        19\n",
            "4         1     0           64  3869200167        2760        25\n",
            "...     ...   ...          ...         ...         ...       ...\n",
            "14995     1     1            4  3869200316        3399         9\n",
            "14996     1     1           17  3869200316        3400        15\n",
            "14997     1     1           10  3869200316        3530        16\n",
            "14998     1     1            8  3869200316        3533        18\n",
            "14999     1     0          139  3869200316        3539         0\n",
            "\n",
            "[15000 rows x 6 columns]\n"
          ]
        }
      ],
      "source": [
        "import pandas as pd\n",
        "import numpy as np\n",
        "data = pd.read_csv('/content/data_000637.txt',nrows=15000) #this gives N rows\n",
        "data_full = pd.read_csv('/content/data_000637.txt')\n",
        "data.head()\n",
        "df = pd.DataFrame(data)\n",
        "df_full = pd.DataFrame(data_full)\n",
        "print(df)"
      ]
    },
    {
      "cell_type": "markdown",
      "metadata": {
        "id": "cbDuRJLtppCM"
      },
      "source": [
        "2. Estimate the number of BX in a ORBIT (the value x).\n",
        "\n",
        "Hint: check when the BX counter reaches the maximum value before being reset to 0."
      ]
    },
    {
      "cell_type": "code",
      "execution_count": 4,
      "metadata": {
        "colab": {
          "base_uri": "https://localhost:8080/"
        },
        "id": "YUMlRi-xppCM",
        "outputId": "b4392be7-0c43-4095-a8e2-a8a7568c472c"
      },
      "outputs": [
        {
          "output_type": "stream",
          "name": "stdout",
          "text": [
            "Max BX number in a orbit: 3563\n"
          ]
        }
      ],
      "source": [
        "BX_max_value = df_full.BX_COUNTER.max()\n",
        "print(\"Max BX number in a orbit: \"+str(BX_max_value))"
      ]
    },
    {
      "cell_type": "markdown",
      "source": [
        "3\\. Create a new column with the absolute time in ns (as a combination of the other three columns with timing information) since the beginning of the data acquisition."
      ],
      "metadata": {
        "id": "xqc7sNWfJ-7s"
      }
    },
    {
      "cell_type": "code",
      "source": [
        "df['TIME_ns'] = df.apply(lambda ns: ns.TDC_CHANNEL + ns.BX_COUNTER + ns.TDC_MEAS, axis = 1)\n",
        "df['TIME_ns'] = pd.to_datetime(df['TIME_ns'])\n",
        "print(df)"
      ],
      "metadata": {
        "id": "peLHNV6RKboE",
        "colab": {
          "base_uri": "https://localhost:8080/"
        },
        "outputId": "5a191c47-41da-4c5b-cfb8-715f9a5f75cc"
      },
      "execution_count": 5,
      "outputs": [
        {
          "output_type": "stream",
          "name": "stdout",
          "text": [
            "       HEAD  FPGA  TDC_CHANNEL   ORBIT_CNT  BX_COUNTER  TDC_MEAS  \\\n",
            "0         1     0          123  3869200167        2374        26   \n",
            "1         1     0          124  3869200167        2374        27   \n",
            "2         1     0           63  3869200167        2553        28   \n",
            "3         1     0           64  3869200167        2558        19   \n",
            "4         1     0           64  3869200167        2760        25   \n",
            "...     ...   ...          ...         ...         ...       ...   \n",
            "14995     1     1            4  3869200316        3399         9   \n",
            "14996     1     1           17  3869200316        3400        15   \n",
            "14997     1     1           10  3869200316        3530        16   \n",
            "14998     1     1            8  3869200316        3533        18   \n",
            "14999     1     0          139  3869200316        3539         0   \n",
            "\n",
            "                            TIME_ns  \n",
            "0     1970-01-01 00:00:00.000002523  \n",
            "1     1970-01-01 00:00:00.000002525  \n",
            "2     1970-01-01 00:00:00.000002644  \n",
            "3     1970-01-01 00:00:00.000002641  \n",
            "4     1970-01-01 00:00:00.000002849  \n",
            "...                             ...  \n",
            "14995 1970-01-01 00:00:00.000003412  \n",
            "14996 1970-01-01 00:00:00.000003432  \n",
            "14997 1970-01-01 00:00:00.000003556  \n",
            "14998 1970-01-01 00:00:00.000003559  \n",
            "14999 1970-01-01 00:00:00.000003678  \n",
            "\n",
            "[15000 rows x 7 columns]\n"
          ]
        }
      ]
    },
    {
      "cell_type": "markdown",
      "metadata": {
        "id": "90glxF6AppCM"
      },
      "source": [
        "4. Find out the duration of the data taking in hours, minutes and seconds, by using the features of the Time Series. Perform this check reading the whole dataset"
      ]
    },
    {
      "cell_type": "code",
      "execution_count": 6,
      "metadata": {
        "id": "HB5t8OOXppCN",
        "colab": {
          "base_uri": "https://localhost:8080/"
        },
        "outputId": "e92ee97d-e195-4f3a-ba2a-96795a2c7321"
      },
      "outputs": [
        {
          "output_type": "stream",
          "name": "stdout",
          "text": [
            "       HEAD  FPGA  TDC_CHANNEL   ORBIT_CNT  BX_COUNTER  TDC_MEAS  \\\n",
            "0         1     0          123  3869200167        2374        26   \n",
            "1         1     0          124  3869200167        2374        27   \n",
            "2         1     0           63  3869200167        2553        28   \n",
            "3         1     0           64  3869200167        2558        19   \n",
            "4         1     0           64  3869200167        2760        25   \n",
            "...     ...   ...          ...         ...         ...       ...   \n",
            "14995     1     1            4  3869200316        3399         9   \n",
            "14996     1     1           17  3869200316        3400        15   \n",
            "14997     1     1           10  3869200316        3530        16   \n",
            "14998     1     1            8  3869200316        3533        18   \n",
            "14999     1     0          139  3869200316        3539         0   \n",
            "\n",
            "                            TIME_ns         DURATION  \n",
            "0     1970-01-01 00:00:00.000002523  00:00:00.000002  \n",
            "1     1970-01-01 00:00:00.000002525  00:00:00.000002  \n",
            "2     1970-01-01 00:00:00.000002644  00:00:00.000002  \n",
            "3     1970-01-01 00:00:00.000002641  00:00:00.000002  \n",
            "4     1970-01-01 00:00:00.000002849  00:00:00.000002  \n",
            "...                             ...              ...  \n",
            "14995 1970-01-01 00:00:00.000003412  00:00:00.000003  \n",
            "14996 1970-01-01 00:00:00.000003432  00:00:00.000003  \n",
            "14997 1970-01-01 00:00:00.000003556  00:00:00.000003  \n",
            "14998 1970-01-01 00:00:00.000003559  00:00:00.000003  \n",
            "14999 1970-01-01 00:00:00.000003678  00:00:00.000003  \n",
            "\n",
            "[15000 rows x 8 columns]\n"
          ]
        }
      ],
      "source": [
        "df['DURATION'] = df['TIME_ns'].dt.time\n",
        "print(df)"
      ]
    },
    {
      "cell_type": "code",
      "execution_count": null,
      "metadata": {
        "colab": {
          "base_uri": "https://localhost:8080/",
          "height": 423
        },
        "id": "kb8uJFtoppCO",
        "outputId": "613a12ad-89c3-49f3-c45e-a7b506bdfc5b"
      },
      "outputs": [
        {
          "output_type": "execute_result",
          "data": {
            "text/plain": [
              "       HEAD  FPGA  TDC_CHANNEL   ORBIT_CNT  BX_COUNTER  TDC_MEAS  \\\n",
              "0         1     0          123  3869200167        2374        26   \n",
              "1         1     0          124  3869200167        2374        27   \n",
              "2         1     0           63  3869200167        2553        28   \n",
              "3         1     0           64  3869200167        2558        19   \n",
              "4         1     0           64  3869200167        2760        25   \n",
              "...     ...   ...          ...         ...         ...       ...   \n",
              "14995     1     1            4  3869200316        3399         9   \n",
              "14996     1     1           17  3869200316        3400        15   \n",
              "14997     1     1           10  3869200316        3530        16   \n",
              "14998     1     1            8  3869200316        3533        18   \n",
              "14999     1     0          139  3869200316        3539         0   \n",
              "\n",
              "             TIMENS  TOTAL_TIME(sec)  \n",
              "0      5.937167e+04         0.000059  \n",
              "1      1.187442e+05         0.000059  \n",
              "2      1.825925e+05         0.000064  \n",
              "3      2.465583e+05         0.000064  \n",
              "4      3.155792e+05         0.000069  \n",
              "...             ...              ...  \n",
              "14995  6.764781e+08         0.000085  \n",
              "14996  6.765631e+08         0.000085  \n",
              "14997  6.766513e+08         0.000088  \n",
              "14998  6.767397e+08         0.000088  \n",
              "14999  6.768282e+08         0.000088  \n",
              "\n",
              "[15000 rows x 8 columns]"
            ],
            "text/html": [
              "\n",
              "  <div id=\"df-bb62e71d-d139-45d7-b34f-c03f3ea83c31\">\n",
              "    <div class=\"colab-df-container\">\n",
              "      <div>\n",
              "<style scoped>\n",
              "    .dataframe tbody tr th:only-of-type {\n",
              "        vertical-align: middle;\n",
              "    }\n",
              "\n",
              "    .dataframe tbody tr th {\n",
              "        vertical-align: top;\n",
              "    }\n",
              "\n",
              "    .dataframe thead th {\n",
              "        text-align: right;\n",
              "    }\n",
              "</style>\n",
              "<table border=\"1\" class=\"dataframe\">\n",
              "  <thead>\n",
              "    <tr style=\"text-align: right;\">\n",
              "      <th></th>\n",
              "      <th>HEAD</th>\n",
              "      <th>FPGA</th>\n",
              "      <th>TDC_CHANNEL</th>\n",
              "      <th>ORBIT_CNT</th>\n",
              "      <th>BX_COUNTER</th>\n",
              "      <th>TDC_MEAS</th>\n",
              "      <th>TIMENS</th>\n",
              "      <th>TOTAL_TIME(sec)</th>\n",
              "    </tr>\n",
              "  </thead>\n",
              "  <tbody>\n",
              "    <tr>\n",
              "      <th>0</th>\n",
              "      <td>1</td>\n",
              "      <td>0</td>\n",
              "      <td>123</td>\n",
              "      <td>3869200167</td>\n",
              "      <td>2374</td>\n",
              "      <td>26</td>\n",
              "      <td>5.937167e+04</td>\n",
              "      <td>0.000059</td>\n",
              "    </tr>\n",
              "    <tr>\n",
              "      <th>1</th>\n",
              "      <td>1</td>\n",
              "      <td>0</td>\n",
              "      <td>124</td>\n",
              "      <td>3869200167</td>\n",
              "      <td>2374</td>\n",
              "      <td>27</td>\n",
              "      <td>1.187442e+05</td>\n",
              "      <td>0.000059</td>\n",
              "    </tr>\n",
              "    <tr>\n",
              "      <th>2</th>\n",
              "      <td>1</td>\n",
              "      <td>0</td>\n",
              "      <td>63</td>\n",
              "      <td>3869200167</td>\n",
              "      <td>2553</td>\n",
              "      <td>28</td>\n",
              "      <td>1.825925e+05</td>\n",
              "      <td>0.000064</td>\n",
              "    </tr>\n",
              "    <tr>\n",
              "      <th>3</th>\n",
              "      <td>1</td>\n",
              "      <td>0</td>\n",
              "      <td>64</td>\n",
              "      <td>3869200167</td>\n",
              "      <td>2558</td>\n",
              "      <td>19</td>\n",
              "      <td>2.465583e+05</td>\n",
              "      <td>0.000064</td>\n",
              "    </tr>\n",
              "    <tr>\n",
              "      <th>4</th>\n",
              "      <td>1</td>\n",
              "      <td>0</td>\n",
              "      <td>64</td>\n",
              "      <td>3869200167</td>\n",
              "      <td>2760</td>\n",
              "      <td>25</td>\n",
              "      <td>3.155792e+05</td>\n",
              "      <td>0.000069</td>\n",
              "    </tr>\n",
              "    <tr>\n",
              "      <th>...</th>\n",
              "      <td>...</td>\n",
              "      <td>...</td>\n",
              "      <td>...</td>\n",
              "      <td>...</td>\n",
              "      <td>...</td>\n",
              "      <td>...</td>\n",
              "      <td>...</td>\n",
              "      <td>...</td>\n",
              "    </tr>\n",
              "    <tr>\n",
              "      <th>14995</th>\n",
              "      <td>1</td>\n",
              "      <td>1</td>\n",
              "      <td>4</td>\n",
              "      <td>3869200316</td>\n",
              "      <td>3399</td>\n",
              "      <td>9</td>\n",
              "      <td>6.764781e+08</td>\n",
              "      <td>0.000085</td>\n",
              "    </tr>\n",
              "    <tr>\n",
              "      <th>14996</th>\n",
              "      <td>1</td>\n",
              "      <td>1</td>\n",
              "      <td>17</td>\n",
              "      <td>3869200316</td>\n",
              "      <td>3400</td>\n",
              "      <td>15</td>\n",
              "      <td>6.765631e+08</td>\n",
              "      <td>0.000085</td>\n",
              "    </tr>\n",
              "    <tr>\n",
              "      <th>14997</th>\n",
              "      <td>1</td>\n",
              "      <td>1</td>\n",
              "      <td>10</td>\n",
              "      <td>3869200316</td>\n",
              "      <td>3530</td>\n",
              "      <td>16</td>\n",
              "      <td>6.766513e+08</td>\n",
              "      <td>0.000088</td>\n",
              "    </tr>\n",
              "    <tr>\n",
              "      <th>14998</th>\n",
              "      <td>1</td>\n",
              "      <td>1</td>\n",
              "      <td>8</td>\n",
              "      <td>3869200316</td>\n",
              "      <td>3533</td>\n",
              "      <td>18</td>\n",
              "      <td>6.767397e+08</td>\n",
              "      <td>0.000088</td>\n",
              "    </tr>\n",
              "    <tr>\n",
              "      <th>14999</th>\n",
              "      <td>1</td>\n",
              "      <td>0</td>\n",
              "      <td>139</td>\n",
              "      <td>3869200316</td>\n",
              "      <td>3539</td>\n",
              "      <td>0</td>\n",
              "      <td>6.768282e+08</td>\n",
              "      <td>0.000088</td>\n",
              "    </tr>\n",
              "  </tbody>\n",
              "</table>\n",
              "<p>15000 rows × 8 columns</p>\n",
              "</div>\n",
              "      <button class=\"colab-df-convert\" onclick=\"convertToInteractive('df-bb62e71d-d139-45d7-b34f-c03f3ea83c31')\"\n",
              "              title=\"Convert this dataframe to an interactive table.\"\n",
              "              style=\"display:none;\">\n",
              "        \n",
              "  <svg xmlns=\"http://www.w3.org/2000/svg\" height=\"24px\"viewBox=\"0 0 24 24\"\n",
              "       width=\"24px\">\n",
              "    <path d=\"M0 0h24v24H0V0z\" fill=\"none\"/>\n",
              "    <path d=\"M18.56 5.44l.94 2.06.94-2.06 2.06-.94-2.06-.94-.94-2.06-.94 2.06-2.06.94zm-11 1L8.5 8.5l.94-2.06 2.06-.94-2.06-.94L8.5 2.5l-.94 2.06-2.06.94zm10 10l.94 2.06.94-2.06 2.06-.94-2.06-.94-.94-2.06-.94 2.06-2.06.94z\"/><path d=\"M17.41 7.96l-1.37-1.37c-.4-.4-.92-.59-1.43-.59-.52 0-1.04.2-1.43.59L10.3 9.45l-7.72 7.72c-.78.78-.78 2.05 0 2.83L4 21.41c.39.39.9.59 1.41.59.51 0 1.02-.2 1.41-.59l7.78-7.78 2.81-2.81c.8-.78.8-2.07 0-2.86zM5.41 20L4 18.59l7.72-7.72 1.47 1.35L5.41 20z\"/>\n",
              "  </svg>\n",
              "      </button>\n",
              "      \n",
              "  <style>\n",
              "    .colab-df-container {\n",
              "      display:flex;\n",
              "      flex-wrap:wrap;\n",
              "      gap: 12px;\n",
              "    }\n",
              "\n",
              "    .colab-df-convert {\n",
              "      background-color: #E8F0FE;\n",
              "      border: none;\n",
              "      border-radius: 50%;\n",
              "      cursor: pointer;\n",
              "      display: none;\n",
              "      fill: #1967D2;\n",
              "      height: 32px;\n",
              "      padding: 0 0 0 0;\n",
              "      width: 32px;\n",
              "    }\n",
              "\n",
              "    .colab-df-convert:hover {\n",
              "      background-color: #E2EBFA;\n",
              "      box-shadow: 0px 1px 2px rgba(60, 64, 67, 0.3), 0px 1px 3px 1px rgba(60, 64, 67, 0.15);\n",
              "      fill: #174EA6;\n",
              "    }\n",
              "\n",
              "    [theme=dark] .colab-df-convert {\n",
              "      background-color: #3B4455;\n",
              "      fill: #D2E3FC;\n",
              "    }\n",
              "\n",
              "    [theme=dark] .colab-df-convert:hover {\n",
              "      background-color: #434B5C;\n",
              "      box-shadow: 0px 1px 3px 1px rgba(0, 0, 0, 0.15);\n",
              "      filter: drop-shadow(0px 1px 2px rgba(0, 0, 0, 0.3));\n",
              "      fill: #FFFFFF;\n",
              "    }\n",
              "  </style>\n",
              "\n",
              "      <script>\n",
              "        const buttonEl =\n",
              "          document.querySelector('#df-bb62e71d-d139-45d7-b34f-c03f3ea83c31 button.colab-df-convert');\n",
              "        buttonEl.style.display =\n",
              "          google.colab.kernel.accessAllowed ? 'block' : 'none';\n",
              "\n",
              "        async function convertToInteractive(key) {\n",
              "          const element = document.querySelector('#df-bb62e71d-d139-45d7-b34f-c03f3ea83c31');\n",
              "          const dataTable =\n",
              "            await google.colab.kernel.invokeFunction('convertToInteractive',\n",
              "                                                     [key], {});\n",
              "          if (!dataTable) return;\n",
              "\n",
              "          const docLinkHtml = 'Like what you see? Visit the ' +\n",
              "            '<a target=\"_blank\" href=https://colab.research.google.com/notebooks/data_table.ipynb>data table notebook</a>'\n",
              "            + ' to learn more about interactive tables.';\n",
              "          element.innerHTML = '';\n",
              "          dataTable['output_type'] = 'display_data';\n",
              "          await google.colab.output.renderOutput(dataTable, element);\n",
              "          const docLink = document.createElement('div');\n",
              "          docLink.innerHTML = docLinkHtml;\n",
              "          element.appendChild(docLink);\n",
              "        }\n",
              "      </script>\n",
              "    </div>\n",
              "  </div>\n",
              "  "
            ]
          },
          "metadata": {},
          "execution_count": 20
        }
      ],
      "source": [
        "df"
      ]
    },
    {
      "cell_type": "markdown",
      "metadata": {
        "id": "xpa-Fle_ppCP"
      },
      "source": [
        "5\\. Use the `.groupby()` method to find out the noisy channels, i.e. the TDC channels with most counts (print to screen the top 3 and the corresponding counts)"
      ]
    },
    {
      "cell_type": "code",
      "execution_count": 8,
      "metadata": {
        "colab": {
          "base_uri": "https://localhost:8080/"
        },
        "id": "oyHDF3yuppCP",
        "outputId": "1dac1bfd-cd7a-4988-c5e2-9e4a370bf390"
      },
      "outputs": [
        {
          "output_type": "stream",
          "name": "stdout",
          "text": [
            "             BX_COUNTER\n",
            "TDC_CHANNEL            \n",
            "1                  3558\n",
            "2                  3555\n",
            "3                  3557\n"
          ]
        }
      ],
      "source": [
        "noisy_channels = df.groupby(['TDC_CHANNEL'])['BX_COUNTER']\n",
        "noisy_channels = noisy_channels.max()\n",
        "df1 = pd.DataFrame(noisy_channels.head(3))\n",
        "print(df1)"
      ]
    },
    {
      "cell_type": "markdown",
      "metadata": {
        "id": "WeCiAigBppCP"
      },
      "source": [
        "6\\. Count the number of non-empty orbits (i.e. the number of orbits with at least one hit). "
      ]
    },
    {
      "cell_type": "code",
      "source": [
        "non_empty = df.groupby(['ORBIT_CNT'])\n",
        "non_empty = non_empty.count()\n",
        "print(len(non_empty))"
      ],
      "metadata": {
        "colab": {
          "base_uri": "https://localhost:8080/"
        },
        "id": "-p1LpoqTNHF6",
        "outputId": "e2feb0a1-dc8d-48e7-baed-1c4188577d19"
      },
      "execution_count": 9,
      "outputs": [
        {
          "output_type": "stream",
          "name": "stdout",
          "text": [
            "150\n"
          ]
        }
      ]
    },
    {
      "cell_type": "markdown",
      "source": [
        "7. Count the number of unique orbits with at least one measurement from TDC_CHANNEL=139."
      ],
      "metadata": {
        "id": "bUomHHY4NL4R"
      }
    },
    {
      "cell_type": "code",
      "execution_count": 11,
      "metadata": {
        "colab": {
          "base_uri": "https://localhost:8080/"
        },
        "id": "n7eAG73vppCP",
        "outputId": "b5315dc3-8b8a-49a4-c2d7-951a0a2dee05"
      },
      "outputs": [
        {
          "output_type": "stream",
          "name": "stdout",
          "text": [
            "150\n"
          ]
        }
      ],
      "source": [
        "unique_orbits = df[df['TDC_CHANNEL'] == 139]['ORBIT_CNT'].unique()\n",
        "print(len(unique_orbits))"
      ]
    },
    {
      "cell_type": "markdown",
      "metadata": {
        "id": "6bKQ4TQKppCP"
      },
      "source": [
        "8. Create two Series (one for each FPGA) that have the TDC channel as index, and the number of counts for the corresponding TDC channel as values."
      ]
    },
    {
      "cell_type": "code",
      "execution_count": 12,
      "metadata": {
        "id": "sI0FtLkxppCQ",
        "colab": {
          "base_uri": "https://localhost:8080/"
        },
        "outputId": "495afeee-6fe9-40e1-913e-70485f020625"
      },
      "outputs": [
        {
          "output_type": "stream",
          "name": "stdout",
          "text": [
            "TDC_CHANNEL\n",
            "139            1268\n",
            "64              752\n",
            "63              749\n",
            "61              571\n",
            "62              542\n",
            "               ... \n",
            "107               6\n",
            "106               6\n",
            "55                6\n",
            "125               6\n",
            "67                5\n",
            "Length: 129, dtype: int64\n",
            "TDC_CHANNEL\n",
            "139            1268\n",
            "64              752\n",
            "63              749\n",
            "61              571\n",
            "62              542\n",
            "               ... \n",
            "107               6\n",
            "106               6\n",
            "55                6\n",
            "125               6\n",
            "67                5\n",
            "Length: 129, dtype: int64\n"
          ]
        }
      ],
      "source": [
        "FPGA0 = df[df['FPGA'] == 0]\n",
        "FPGA0 = pd.Series(df[['TDC_CHANNEL']].value_counts())\n",
        "print(FPGA0)\n",
        "\n",
        "FPGA1 = df[df['FPGA'] == 1] \n",
        "FPGA1 = pd.Series(df[['TDC_CHANNEL']].value_counts())\n",
        "print(FPGA1)"
      ]
    }
  ],
  "metadata": {
    "kernelspec": {
      "display_name": "Python 3 (ipykernel)",
      "language": "python",
      "name": "python3"
    },
    "language_info": {
      "codemirror_mode": {
        "name": "ipython",
        "version": 3
      },
      "file_extension": ".py",
      "mimetype": "text/x-python",
      "name": "python",
      "nbconvert_exporter": "python",
      "pygments_lexer": "ipython3",
      "version": "3.9.7"
    },
    "colab": {
      "provenance": []
    }
  },
  "nbformat": 4,
  "nbformat_minor": 0
}